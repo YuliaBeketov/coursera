{
 "cells": [
  {
   "cell_type": "markdown",
   "id": "b97a3447",
   "metadata": {},
   "source": [
    "# My Jupyter Notebook on IBM Watson Studio\n",
    "Good morning!"
   ]
  },
  {
   "cell_type": "markdown",
   "id": "f5649eea",
   "metadata": {},
   "source": [
    "## Yulia Beketov\n",
    "## Data Scientist"
   ]
  },
  {
   "cell_type": "markdown",
   "id": "718bb332",
   "metadata": {},
   "source": [
    "*I am interested in data science because it allows people to make decisions based on a huge amount of data.*"
   ]
  },
  {
   "cell_type": "markdown",
   "id": "907e94e8",
   "metadata": {},
   "source": [
    "### The code below is supposed to calculate a + b"
   ]
  },
  {
   "cell_type": "code",
   "execution_count": 2,
   "id": "7b068636",
   "metadata": {},
   "outputs": [
    {
     "name": "stdout",
     "output_type": "stream",
     "text": [
      "4\n"
     ]
    }
   ],
   "source": [
    "a = 2\n",
    "b = 2\n",
    "c = a + b\n",
    "print(c)"
   ]
  },
  {
   "cell_type": "markdown",
   "id": "0e9d0de5",
   "metadata": {},
   "source": [
    "[https://github.com/adam-p/markdown-here/wiki/Markdown-Cheatsheet] Markdown cheatsheet\n",
    "![alt text](https://www.atulhost.com/wp-content/uploads/2017/06/big-data.jpg \"Nice Picture\")\n",
    "\n",
    "| Fruit Trees        | Place           | Quantity, trees  |\n",
    "| ------------- |:-------------:| -----:|\n",
    "| Apple Trees      | near the house| 12 |\n",
    "| Orange Trees      | in the garden      |   15 |\n",
    "| Lemon Trees | in the park      |    27 |\n"
   ]
  },
  {
   "cell_type": "code",
   "execution_count": null,
   "id": "72027b2e",
   "metadata": {},
   "outputs": [],
   "source": []
  }
 ],
 "metadata": {
  "kernelspec": {
   "display_name": "Python 3 (ipykernel)",
   "language": "python",
   "name": "python3"
  },
  "language_info": {
   "codemirror_mode": {
    "name": "ipython",
    "version": 3
   },
   "file_extension": ".py",
   "mimetype": "text/x-python",
   "name": "python",
   "nbconvert_exporter": "python",
   "pygments_lexer": "ipython3",
   "version": "3.9.12"
  }
 },
 "nbformat": 4,
 "nbformat_minor": 5
}
